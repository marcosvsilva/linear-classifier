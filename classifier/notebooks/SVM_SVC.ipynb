{
 "cells": [
  {
   "cell_type": "code",
   "execution_count": 1,
   "id": "6b58e1c8",
   "metadata": {},
   "outputs": [],
   "source": [
    "%config Completer.use_jedi = False"
   ]
  },
  {
   "cell_type": "code",
   "execution_count": 2,
   "id": "8056e8b3",
   "metadata": {},
   "outputs": [],
   "source": [
    "import numpy as np\n",
    "import pandas as pd\n",
    "import seaborn as sns\n",
    "from sklearn.svm import SVC\n",
    "from sklearn.metrics import accuracy_score\n",
    "from sklearn.model_selection import train_test_split\n",
    "from sklearn.preprocessing import StandardScaler\n",
    "import matplotlib.pyplot as plt"
   ]
  },
  {
   "cell_type": "code",
   "execution_count": 3,
   "id": "a3189b26",
   "metadata": {},
   "outputs": [
    {
     "data": {
      "text/html": [
       "<div>\n",
       "<style scoped>\n",
       "    .dataframe tbody tr th:only-of-type {\n",
       "        vertical-align: middle;\n",
       "    }\n",
       "\n",
       "    .dataframe tbody tr th {\n",
       "        vertical-align: top;\n",
       "    }\n",
       "\n",
       "    .dataframe thead th {\n",
       "        text-align: right;\n",
       "    }\n",
       "</style>\n",
       "<table border=\"1\" class=\"dataframe\">\n",
       "  <thead>\n",
       "    <tr style=\"text-align: right;\">\n",
       "      <th></th>\n",
       "      <th>unfinished</th>\n",
       "      <th>expected_hours</th>\n",
       "      <th>price</th>\n",
       "    </tr>\n",
       "  </thead>\n",
       "  <tbody>\n",
       "    <tr>\n",
       "      <th>0</th>\n",
       "      <td>1</td>\n",
       "      <td>26</td>\n",
       "      <td>192</td>\n",
       "    </tr>\n",
       "    <tr>\n",
       "      <th>1</th>\n",
       "      <td>1</td>\n",
       "      <td>88</td>\n",
       "      <td>9015</td>\n",
       "    </tr>\n",
       "    <tr>\n",
       "      <th>2</th>\n",
       "      <td>1</td>\n",
       "      <td>89</td>\n",
       "      <td>2577</td>\n",
       "    </tr>\n",
       "    <tr>\n",
       "      <th>3</th>\n",
       "      <td>1</td>\n",
       "      <td>42</td>\n",
       "      <td>275</td>\n",
       "    </tr>\n",
       "    <tr>\n",
       "      <th>4</th>\n",
       "      <td>1</td>\n",
       "      <td>39</td>\n",
       "      <td>170</td>\n",
       "    </tr>\n",
       "  </tbody>\n",
       "</table>\n",
       "</div>"
      ],
      "text/plain": [
       "   unfinished  expected_hours  price\n",
       "0           1              26    192\n",
       "1           1              88   9015\n",
       "2           1              89   2577\n",
       "3           1              42    275\n",
       "4           1              39    170"
      ]
     },
     "execution_count": 3,
     "metadata": {},
     "output_type": "execute_result"
    }
   ],
   "source": [
    "data = pd.read_csv('https://gist.githubusercontent.com/guilhermesilveira/1b7d5475863c15f484ac495bd70975cf/raw/16aff7a0aee67e7c100a2a48b676a2d2d142f646/projects.csv')\n",
    "data.head()"
   ]
  },
  {
   "cell_type": "code",
   "execution_count": 4,
   "id": "586ffff5",
   "metadata": {},
   "outputs": [],
   "source": [
    "np.random.seed(5)"
   ]
  },
  {
   "cell_type": "code",
   "execution_count": 5,
   "id": "16e46f99",
   "metadata": {},
   "outputs": [
    {
     "name": "stdout",
     "output_type": "stream",
     "text": [
      "      expected_hours  price\n",
      "0                 26    192\n",
      "1                 88   9015\n",
      "2                 89   2577\n",
      "3                 42    275\n",
      "4                 39    170\n",
      "...              ...    ...\n",
      "2152              80   7518\n",
      "2153              52   1332\n",
      "2154              40    473\n",
      "2155              75   5324\n",
      "2156              37    377\n",
      "\n",
      "[2157 rows x 2 columns]\n"
     ]
    }
   ],
   "source": [
    "data[\"target\"] = data[\"unfinished\"]\n",
    "data = data.drop([\"unfinished\"], axis=1)\n",
    "data.target = data.target.map({0: 1, 1: 0})\n",
    "columns = [col for col in data.columns if col != \"target\"]\n",
    "x = data[columns]\n",
    "y = data[\"target\"]\n",
    "\n",
    "print(x)"
   ]
  },
  {
   "cell_type": "code",
   "execution_count": 6,
   "id": "9878c0dd",
   "metadata": {},
   "outputs": [],
   "source": [
    "train_x, test_x, train_y, test_y = train_test_split(x, y, test_size=.25, stratify=y)"
   ]
  },
  {
   "cell_type": "code",
   "execution_count": 7,
   "id": "1cfec4dc",
   "metadata": {},
   "outputs": [
    {
     "name": "stdout",
     "output_type": "stream",
     "text": [
      "[-0.40039294 -0.59209496]\n",
      "[ 0.40732098 -0.47969904]\n"
     ]
    }
   ],
   "source": [
    "scaler = StandardScaler()\n",
    "scaler.fit(train_x)\n",
    "\n",
    "train_x = scaler.transform(train_x)\n",
    "test_x = scaler.transform(test_x)\n",
    "\n",
    "print(train_x[10])\n",
    "print(test_x[10])"
   ]
  },
  {
   "cell_type": "code",
   "execution_count": 8,
   "id": "63d22676",
   "metadata": {},
   "outputs": [
    {
     "name": "stdout",
     "output_type": "stream",
     "text": [
      "Model accuracy: 66.85\n"
     ]
    }
   ],
   "source": [
    "model = SVC()\n",
    "model.fit(train_x, train_y)\n",
    "predict = model.predict(test_x)\n",
    "\n",
    "acc = accuracy_score(test_y, predict)\n",
    "print(\"Model accuracy: %.2f\" % (acc*100))"
   ]
  },
  {
   "cell_type": "code",
   "execution_count": 9,
   "id": "5b436444",
   "metadata": {},
   "outputs": [
    {
     "data": {
      "text/plain": [
       "<matplotlib.collections.PathCollection at 0x7f2b5e32bac8>"
      ]
     },
     "execution_count": 9,
     "metadata": {},
     "output_type": "execute_result"
    },
    {
     "data": {
      "image/png": "[encoded data removed]",
      "text/plain": [
       "<Figure size 432x288 with 1 Axes>"
      ]
     },
     "metadata": {
      "needs_background": "light"
     },
     "output_type": "display_data"
    }
   ],
   "source": [
    "hours = test_x[:,0]\n",
    "price = test_x[:,1]\n",
    "\n",
    "x_min = hours.min()\n",
    "x_max = hours.max()\n",
    "y_min = price.min()\n",
    "y_max = price.max()\n",
    "\n",
    "pixels = 100\n",
    "x_axis = np.arange(x_min, x_max, (x_max - x_min)/ pixels)\n",
    "y_axis = np.arange(y_min, y_max, (y_max - y_min)/ pixels)\n",
    "\n",
    "xx, yy = np.meshgrid(x_axis, y_axis)\n",
    "xx.ravel()\n",
    "\n",
    "xx, yy = np.meshgrid(x_axis, y_axis)\n",
    "points = np.c_[xx.ravel(), yy.ravel()]\n",
    "\n",
    "pred_points = model.predict(points)\n",
    "pred_points = pred_points.reshape(xx.shape)\n",
    "\n",
    "plt.contourf(xx, yy, pred_points, alpha=.3)\n",
    "plt.scatter(hours, price, c=test_y, s=1)"
   ]
  },
  {
   "cell_type": "code",
   "execution_count": null,
   "id": "9c1cf8e3",
   "metadata": {},
   "outputs": [],
   "source": []
  }
 ],
 "metadata": {
  "kernelspec": {
   "display_name": "Python 3",
   "language": "python",
   "name": "python3"
  },
  "language_info": {
   "codemirror_mode": {
    "name": "ipython",
    "version": 3
   },
   "file_extension": ".py",
   "mimetype": "text/x-python",
   "name": "python",
   "nbconvert_exporter": "python",
   "pygments_lexer": "ipython3",
   "version": "3.6.13"
  }
 },
 "nbformat": 4,
 "nbformat_minor": 5
}
